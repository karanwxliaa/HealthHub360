{
 "cells": [
  {
   "attachments": {},
   "cell_type": "markdown",
   "metadata": {},
   "source": [
    "# Classification models on quartile grouped dataset:"
   ]
  },
  {
   "cell_type": "code",
   "execution_count": 26,
   "metadata": {},
   "outputs": [],
   "source": [
    "import pandas as pd\n",
    "import numpy as np\n",
    "import sklearn as skl\n",
    "import matplotlib.pyplot as plt\n",
    "import seaborn as sns\n",
    "from sklearn.model_selection import train_test_split\n",
    "from sklearn.ensemble import RandomForestClassifier, AdaBoostClassifier, GradientBoostingClassifier\n",
    "from sklearn.linear_model import LogisticRegression\n",
    "from sklearn.tree import DecisionTreeClassifier"
   ]
  },
  {
   "cell_type": "code",
   "execution_count": 21,
   "metadata": {},
   "outputs": [],
   "source": [
    "df=pd.read_csv('../datasets/Quartile_grouped_dataset.csv').drop('Unnamed: 0',axis=1)"
   ]
  },
  {
   "cell_type": "markdown",
   "metadata": {},
   "source": [
    "# EDA"
   ]
  },
  {
   "cell_type": "code",
   "execution_count": 22,
   "metadata": {},
   "outputs": [
    {
     "data": {
      "text/html": [
       "<div>\n",
       "<style scoped>\n",
       "    .dataframe tbody tr th:only-of-type {\n",
       "        vertical-align: middle;\n",
       "    }\n",
       "\n",
       "    .dataframe tbody tr th {\n",
       "        vertical-align: top;\n",
       "    }\n",
       "\n",
       "    .dataframe thead th {\n",
       "        text-align: right;\n",
       "    }\n",
       "</style>\n",
       "<table border=\"1\" class=\"dataframe\">\n",
       "  <thead>\n",
       "    <tr style=\"text-align: right;\">\n",
       "      <th></th>\n",
       "      <th>patient_age</th>\n",
       "      <th>patient_gender</th>\n",
       "      <th>Ht</th>\n",
       "      <th>Wt</th>\n",
       "      <th>HB</th>\n",
       "      <th>UREA</th>\n",
       "      <th>CR</th>\n",
       "      <th>Na</th>\n",
       "      <th>K</th>\n",
       "      <th>FBS</th>\n",
       "      <th>HBA1C</th>\n",
       "      <th>SGOT</th>\n",
       "      <th>SGPT</th>\n",
       "      <th>calories</th>\n",
       "      <th>cho</th>\n",
       "      <th>Fat</th>\n",
       "      <th>pro</th>\n",
       "      <th>fluids</th>\n",
       "      <th>NA</th>\n",
       "    </tr>\n",
       "  </thead>\n",
       "  <tbody>\n",
       "    <tr>\n",
       "      <th>0</th>\n",
       "      <td>64.0</td>\n",
       "      <td>0</td>\n",
       "      <td>155.0</td>\n",
       "      <td>60.0</td>\n",
       "      <td>12.73</td>\n",
       "      <td>106.59</td>\n",
       "      <td>0.91</td>\n",
       "      <td>135.0</td>\n",
       "      <td>4.1</td>\n",
       "      <td>83.0</td>\n",
       "      <td>7.75</td>\n",
       "      <td>22.8</td>\n",
       "      <td>24.8</td>\n",
       "      <td>3</td>\n",
       "      <td>3</td>\n",
       "      <td>3</td>\n",
       "      <td>1</td>\n",
       "      <td>3</td>\n",
       "      <td>3</td>\n",
       "    </tr>\n",
       "    <tr>\n",
       "      <th>1</th>\n",
       "      <td>71.0</td>\n",
       "      <td>1</td>\n",
       "      <td>160.0</td>\n",
       "      <td>65.0</td>\n",
       "      <td>8.30</td>\n",
       "      <td>10.60</td>\n",
       "      <td>0.56</td>\n",
       "      <td>137.0</td>\n",
       "      <td>3.6</td>\n",
       "      <td>83.0</td>\n",
       "      <td>5.91</td>\n",
       "      <td>14.7</td>\n",
       "      <td>15.1</td>\n",
       "      <td>2</td>\n",
       "      <td>2</td>\n",
       "      <td>2</td>\n",
       "      <td>1</td>\n",
       "      <td>2</td>\n",
       "      <td>2</td>\n",
       "    </tr>\n",
       "    <tr>\n",
       "      <th>2</th>\n",
       "      <td>23.0</td>\n",
       "      <td>0</td>\n",
       "      <td>165.0</td>\n",
       "      <td>74.0</td>\n",
       "      <td>10.60</td>\n",
       "      <td>14.40</td>\n",
       "      <td>0.75</td>\n",
       "      <td>136.0</td>\n",
       "      <td>4.2</td>\n",
       "      <td>83.0</td>\n",
       "      <td>5.80</td>\n",
       "      <td>14.3</td>\n",
       "      <td>13.5</td>\n",
       "      <td>4</td>\n",
       "      <td>3</td>\n",
       "      <td>4</td>\n",
       "      <td>4</td>\n",
       "      <td>3</td>\n",
       "      <td>3</td>\n",
       "    </tr>\n",
       "    <tr>\n",
       "      <th>3</th>\n",
       "      <td>41.0</td>\n",
       "      <td>0</td>\n",
       "      <td>169.0</td>\n",
       "      <td>97.5</td>\n",
       "      <td>6.58</td>\n",
       "      <td>102.50</td>\n",
       "      <td>2.30</td>\n",
       "      <td>132.0</td>\n",
       "      <td>3.6</td>\n",
       "      <td>83.0</td>\n",
       "      <td>8.65</td>\n",
       "      <td>11.2</td>\n",
       "      <td>10.0</td>\n",
       "      <td>3</td>\n",
       "      <td>3</td>\n",
       "      <td>3</td>\n",
       "      <td>2</td>\n",
       "      <td>4</td>\n",
       "      <td>1</td>\n",
       "    </tr>\n",
       "    <tr>\n",
       "      <th>4</th>\n",
       "      <td>54.0</td>\n",
       "      <td>0</td>\n",
       "      <td>158.0</td>\n",
       "      <td>75.0</td>\n",
       "      <td>12.76</td>\n",
       "      <td>107.17</td>\n",
       "      <td>0.97</td>\n",
       "      <td>135.0</td>\n",
       "      <td>4.1</td>\n",
       "      <td>83.0</td>\n",
       "      <td>5.14</td>\n",
       "      <td>22.8</td>\n",
       "      <td>24.8</td>\n",
       "      <td>3</td>\n",
       "      <td>3</td>\n",
       "      <td>3</td>\n",
       "      <td>2</td>\n",
       "      <td>3</td>\n",
       "      <td>1</td>\n",
       "    </tr>\n",
       "  </tbody>\n",
       "</table>\n",
       "</div>"
      ],
      "text/plain": [
       "   patient_age  patient_gender     Ht    Wt     HB    UREA    CR     Na    K  \\\n",
       "0         64.0               0  155.0  60.0  12.73  106.59  0.91  135.0  4.1   \n",
       "1         71.0               1  160.0  65.0   8.30   10.60  0.56  137.0  3.6   \n",
       "2         23.0               0  165.0  74.0  10.60   14.40  0.75  136.0  4.2   \n",
       "3         41.0               0  169.0  97.5   6.58  102.50  2.30  132.0  3.6   \n",
       "4         54.0               0  158.0  75.0  12.76  107.17  0.97  135.0  4.1   \n",
       "\n",
       "    FBS  HBA1C  SGOT  SGPT  calories  cho  Fat  pro  fluids  NA  \n",
       "0  83.0   7.75  22.8  24.8         3    3    3    1       3   3  \n",
       "1  83.0   5.91  14.7  15.1         2    2    2    1       2   2  \n",
       "2  83.0   5.80  14.3  13.5         4    3    4    4       3   3  \n",
       "3  83.0   8.65  11.2  10.0         3    3    3    2       4   1  \n",
       "4  83.0   5.14  22.8  24.8         3    3    3    2       3   1  "
      ]
     },
     "execution_count": 22,
     "metadata": {},
     "output_type": "execute_result"
    }
   ],
   "source": [
    "df.head()"
   ]
  },
  {
   "cell_type": "code",
   "execution_count": 23,
   "metadata": {},
   "outputs": [
    {
     "data": {
      "text/plain": [
       "array([[<AxesSubplot:title={'center':'patient_age'}>,\n",
       "        <AxesSubplot:title={'center':'patient_gender'}>,\n",
       "        <AxesSubplot:title={'center':'Ht'}>,\n",
       "        <AxesSubplot:title={'center':'Wt'}>],\n",
       "       [<AxesSubplot:title={'center':'HB'}>,\n",
       "        <AxesSubplot:title={'center':'UREA'}>,\n",
       "        <AxesSubplot:title={'center':'CR'}>,\n",
       "        <AxesSubplot:title={'center':'Na'}>],\n",
       "       [<AxesSubplot:title={'center':'K'}>,\n",
       "        <AxesSubplot:title={'center':'FBS'}>,\n",
       "        <AxesSubplot:title={'center':'HBA1C'}>,\n",
       "        <AxesSubplot:title={'center':'SGOT'}>],\n",
       "       [<AxesSubplot:title={'center':'SGPT'}>,\n",
       "        <AxesSubplot:title={'center':'calories'}>,\n",
       "        <AxesSubplot:title={'center':'cho'}>,\n",
       "        <AxesSubplot:title={'center':'Fat'}>],\n",
       "       [<AxesSubplot:title={'center':'pro'}>,\n",
       "        <AxesSubplot:title={'center':'fluids'}>,\n",
       "        <AxesSubplot:title={'center':'NA'}>, <AxesSubplot:>]],\n",
       "      dtype=object)"
      ]
     },
     "execution_count": 23,
     "metadata": {},
     "output_type": "execute_result"
    },
    {
     "data": {
      "image/png": "[encoded data removed]",
      "text/plain": [
       "<Figure size 720x1368 with 20 Axes>"
      ]
     },
     "metadata": {
      "needs_background": "light"
     },
     "output_type": "display_data"
    }
   ],
   "source": [
    "\n",
    "df.hist(figsize=(10,19))"
   ]
  },
  {
   "cell_type": "code",
   "execution_count": 25,
   "metadata": {},
   "outputs": [
    {
     "data": {
      "text/plain": [
       "<AxesSubplot:>"
      ]
     },
     "execution_count": 25,
     "metadata": {},
     "output_type": "execute_result"
    },
    {
     "data": {
      "image/png": "[encoded data removed]",
      "text/plain": [
       "<Figure size 432x288 with 2 Axes>"
      ]
     },
     "metadata": {
      "needs_background": "light"
     },
     "output_type": "display_data"
    }
   ],
   "source": [
    "sns.heatmap(df.corr())"
   ]
  },
  {
   "cell_type": "code",
   "execution_count": 48,
   "metadata": {},
   "outputs": [],
   "source": [
    "x=df.drop(['calories','cho','Fat','pro','fluids','NA'],axis=1)\n",
    "y=df.iloc[:,13:]\n"
   ]
  },
  {
   "cell_type": "code",
   "execution_count": null,
   "metadata": {},
   "outputs": [],
   "source": []
  },
  {
   "cell_type": "code",
   "execution_count": 50,
   "metadata": {},
   "outputs": [],
   "source": [
    "x_train,x_test,y_train,y_test=train_test_split(x,y,test_size=0.33,shuffle=True)"
   ]
  },
  {
   "cell_type": "code",
   "execution_count": 51,
   "metadata": {},
   "outputs": [],
   "source": [
    "cal_train,cal_test=y_train['calories'],y_test['calories']\n",
    "cho_train,cho_test=y_train['cho'],y_test['cho']\n",
    "fat_train,fat_test=y_train['Fat'],y_test['Fat']\n",
    "pro_train,pro_test=y_train['pro'],y_test['pro']\n",
    "fluids_train,fluids_test=y_train['fluids'],y_test['fluids']\n",
    "na_train,na_test=y_train['NA'],y_test['NA']"
   ]
  },
  {
   "attachments": {},
   "cell_type": "markdown",
   "metadata": {},
   "source": [
    "# Calories"
   ]
  },
  {
   "cell_type": "code",
   "execution_count": 76,
   "metadata": {},
   "outputs": [
    {
     "name": "stdout",
     "output_type": "stream",
     "text": [
      "train score RFC: 1.0\n",
      "test score RFC: 0.6880733944954128\n",
      "train score GDB: 1.0\n",
      "test score GDB: 0.6880733944954128\n",
      "train score DTR: 1.0\n",
      "test score DTR: 0.6238532110091743\n"
     ]
    }
   ],
   "source": [
    "rfc_cal=RandomForestClassifier()\n",
    "gdb_cal=GradientBoostingClassifier()\n",
    "dtr_cal=DecisionTreeClassifier()\n",
    "dtr_cal.fit(x_train,cal_train)\n",
    "gdb_cal.fit(x_train,cal_train)\n",
    "rfc_cal.fit(x_train,cal_train)\n",
    "print(f'train score RFC: {rfc_cal.score(x_train,cal_train)}')\n",
    "print(f'test score RFC: {rfc_cal.score(x_test,cal_test)}')\n",
    "print(f'train score GDB: {gdb_cal.score(x_train,cal_train)}')\n",
    "print(f'test score GDB: {gdb_cal.score(x_test,cal_test)}')\n",
    "print(f'train score DTR: {dtr_cal.score(x_train,cal_train)}')\n",
    "print(f'test score DTR: {dtr_cal.score(x_test,cal_test)}')\n"
   ]
  },
  {
   "attachments": {},
   "cell_type": "markdown",
   "metadata": {},
   "source": [
    "# Cho"
   ]
  },
  {
   "cell_type": "code",
   "execution_count": 80,
   "metadata": {},
   "outputs": [
    {
     "name": "stdout",
     "output_type": "stream",
     "text": [
      "train score RFC: 1.0\n",
      "test score RFC: 0.7522935779816514\n",
      "train score GDB: 1.0\n",
      "test score GDB: 0.6880733944954128\n",
      "train score DTR: 1.0\n",
      "test score DTR: 0.7247706422018348\n"
     ]
    }
   ],
   "source": [
    "rfc_cho=RandomForestClassifier()\n",
    "gdb_cho=GradientBoostingClassifier()\n",
    "dtr_cho=DecisionTreeClassifier()\n",
    "dtr_cho.fit(x_train,cho_train)\n",
    "gdb_cho.fit(x_train,cho_train)\n",
    "rfc_cho.fit(x_train,cho_train)\n",
    "print(f'train score RFC: {rfc_cho.score(x_train,cho_train)}')\n",
    "print(f'test score RFC: {rfc_cho.score(x_test,cho_test)}')\n",
    "print(f'train score GDB: {gdb_cho.score(x_train,cho_train)}')\n",
    "print(f'test score GDB: {gdb_cho.score(x_test,cho_test)}')\n",
    "print(f'train score DTR: {dtr_cho.score(x_train,cho_train)}')\n",
    "print(f'test score DTR: {dtr_cho.score(x_test,cho_test)}')\n"
   ]
  },
  {
   "attachments": {},
   "cell_type": "markdown",
   "metadata": {},
   "source": [
    "# Fat"
   ]
  },
  {
   "cell_type": "code",
   "execution_count": 81,
   "metadata": {},
   "outputs": [
    {
     "name": "stdout",
     "output_type": "stream",
     "text": [
      "train score RFC: 1.0\n",
      "test score RFC: 0.6788990825688074\n",
      "train score GDB: 1.0\n",
      "test score GDB: 0.5779816513761468\n",
      "train score DTR: 1.0\n",
      "test score DTR: 0.6605504587155964\n"
     ]
    }
   ],
   "source": [
    "rfc_fat=RandomForestClassifier()\n",
    "gdb_fat=GradientBoostingClassifier()\n",
    "dtr_fat=DecisionTreeClassifier()\n",
    "dtr_fat.fit(x_train,fat_train)\n",
    "gdb_fat.fit(x_train,fat_train)\n",
    "rfc_fat.fit(x_train,fat_train)\n",
    "print(f'train score RFC: {rfc_fat.score(x_train,fat_train)}')\n",
    "print(f'test score RFC: {rfc_fat.score(x_test,fat_test)}')\n",
    "print(f'train score GDB: {gdb_fat.score(x_train,fat_train)}')\n",
    "print(f'test score GDB: {gdb_fat.score(x_test,fat_test)}')\n",
    "print(f'train score DTR: {dtr_fat.score(x_train,fat_train)}')\n",
    "print(f'test score DTR: {dtr_fat.score(x_test,fat_test)}')\n"
   ]
  },
  {
   "attachments": {},
   "cell_type": "markdown",
   "metadata": {},
   "source": [
    "# Pro"
   ]
  },
  {
   "cell_type": "code",
   "execution_count": 85,
   "metadata": {},
   "outputs": [
    {
     "name": "stdout",
     "output_type": "stream",
     "text": [
      "train score RFC: 1.0\n",
      "test score RFC: 0.8990825688073395\n",
      "train score GDB: 1.0\n",
      "test score GDB: 0.908256880733945\n",
      "train score DTR: 1.0\n",
      "test score DTR: 0.8165137614678899\n"
     ]
    }
   ],
   "source": [
    "rfc_pro=RandomForestClassifier()\n",
    "gdb_pro=GradientBoostingClassifier()\n",
    "dtr_pro=DecisionTreeClassifier()\n",
    "dtr_pro.fit(x_train,pro_train)\n",
    "gdb_pro.fit(x_train,pro_train)\n",
    "rfc_pro.fit(x_train,pro_train)\n",
    "print(f'train score RFC: {rfc_pro.score(x_train,pro_train)}')\n",
    "print(f'test score RFC: {rfc_pro.score(x_test,pro_test)}')\n",
    "print(f'train score GDB: {gdb_pro.score(x_train,pro_train)}')\n",
    "print(f'test score GDB: {gdb_pro.score(x_test,pro_test)}')\n",
    "print(f'train score DTR: {dtr_pro.score(x_train,pro_train)}')\n",
    "print(f'test score DTR: {dtr_pro.score(x_test,pro_test)}')\n"
   ]
  },
  {
   "attachments": {},
   "cell_type": "markdown",
   "metadata": {},
   "source": [
    "# Fluids"
   ]
  },
  {
   "cell_type": "code",
   "execution_count": 90,
   "metadata": {},
   "outputs": [
    {
     "name": "stdout",
     "output_type": "stream",
     "text": [
      "train score RFC: 1.0\n",
      "test score RFC: 0.5688073394495413\n",
      "train score GDB: 1.0\n",
      "test score GDB: 0.5779816513761468\n",
      "train score DTR: 1.0\n",
      "test score DTR: 0.5321100917431193\n"
     ]
    }
   ],
   "source": [
    "rfc_fluids=RandomForestClassifier()\n",
    "gdb_fluids=GradientBoostingClassifier()\n",
    "dtr_fluids=DecisionTreeClassifier()\n",
    "dtr_fluids.fit(x_train,fluids_train)\n",
    "gdb_fluids.fit(x_train,fluids_train)\n",
    "rfc_fluids.fit(x_train,fluids_train)\n",
    "print(f'train score RFC: {rfc_fluids.score(x_train,fluids_train)}')\n",
    "print(f'test score RFC: {rfc_fluids.score(x_test,fluids_test)}')\n",
    "print(f'train score GDB: {gdb_fluids.score(x_train,fluids_train)}')\n",
    "print(f'test score GDB: {gdb_fluids.score(x_test,fluids_test)}')\n",
    "print(f'train score DTR: {dtr_fluids.score(x_train,fluids_train)}')\n",
    "print(f'test score DTR: {dtr_fluids.score(x_test,fluids_test)}')\n"
   ]
  },
  {
   "attachments": {},
   "cell_type": "markdown",
   "metadata": {},
   "source": [
    "# NA"
   ]
  },
  {
   "cell_type": "code",
   "execution_count": 91,
   "metadata": {},
   "outputs": [
    {
     "name": "stdout",
     "output_type": "stream",
     "text": [
      "train score RFC: 1.0\n",
      "test score RFC: 0.5321100917431193\n",
      "train score GDB: 1.0\n",
      "test score GDB: 0.5504587155963303\n",
      "train score DTR: 1.0\n",
      "test score DTR: 0.5137614678899083\n"
     ]
    }
   ],
   "source": [
    "rfc_na=RandomForestClassifier()\n",
    "gdb_na=GradientBoostingClassifier()\n",
    "dtr_na=DecisionTreeClassifier()\n",
    "dtr_na.fit(x_train,na_train)\n",
    "gdb_na.fit(x_train,na_train)\n",
    "rfc_na.fit(x_train,na_train)\n",
    "print(f'train score RFC: {rfc_na.score(x_train,na_train)}')\n",
    "print(f'test score RFC: {rfc_na.score(x_test,na_test)}')\n",
    "print(f'train score GDB: {gdb_na.score(x_train,na_train)}')\n",
    "print(f'test score GDB: {gdb_na.score(x_test,na_test)}')\n",
    "print(f'train score DTR: {dtr_na.score(x_train,na_train)}')\n",
    "print(f'test score DTR: {dtr_na.score(x_test,na_test)}')\n"
   ]
  }
 ],
 "metadata": {
  "kernelspec": {
   "display_name": "Python 3",
   "language": "python",
   "name": "python3"
  },
  "language_info": {
   "codemirror_mode": {
    "name": "ipython",
    "version": 3
   },
   "file_extension": ".py",
   "mimetype": "text/x-python",
   "name": "python",
   "nbconvert_exporter": "python",
   "pygments_lexer": "ipython3",
   "version": "3.8.9"
  },
  "orig_nbformat": 4,
  "vscode": {
   "interpreter": {
    "hash": "31f2aee4e71d21fbe5cf8b01ff0e069b9275f58929596ceb00d14d90e3e16cd6"
   }
  }
 },
 "nbformat": 4,
 "nbformat_minor": 2
}
